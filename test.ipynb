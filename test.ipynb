{
 "cells": [
  {
   "cell_type": "code",
   "execution_count": 1,
   "id": "0f7db443",
   "metadata": {},
   "outputs": [],
   "source": [
    "import numpy as np \n",
    "import pandas as pd"
   ]
  },
  {
   "cell_type": "code",
   "execution_count": 8,
   "id": "2bcddb2f",
   "metadata": {},
   "outputs": [
    {
     "data": {
      "application/vnd.microsoft.datawrangler.viewer.v0+json": {
       "columns": [
        {
         "name": "index",
         "rawType": "int64",
         "type": "integer"
        },
        {
         "name": "Episode_key",
         "rawType": "object",
         "type": "string"
        },
        {
         "name": "specialty",
         "rawType": "object",
         "type": "string"
        },
        {
         "name": "patient_id",
         "rawType": "int64",
         "type": "integer"
        },
        {
         "name": "Note",
         "rawType": "object",
         "type": "string"
        },
        {
         "name": "NotesType",
         "rawType": "object",
         "type": "string"
        },
        {
         "name": "Vital_Sign1",
         "rawType": "float64",
         "type": "float"
        },
        {
         "name": "Vital_SignType",
         "rawType": "object",
         "type": "unknown"
        },
        {
         "name": "DiagnoseName",
         "rawType": "object",
         "type": "string"
        },
        {
         "name": "ICDDiagnoseCode",
         "rawType": "object",
         "type": "string"
        },
        {
         "name": "Age",
         "rawType": "int64",
         "type": "integer"
        },
        {
         "name": "Gender",
         "rawType": "object",
         "type": "string"
        },
        {
         "name": "ChiefComplaintNotes",
         "rawType": "object",
         "type": "string"
        },
        {
         "name": "SymptomNotes",
         "rawType": "object",
         "type": "unknown"
        }
       ],
       "ref": "b7162f26-f6ae-4ddc-b367-7dbcc3274b44",
       "rows": [
        [
         "0",
         "11_550732",
         "Neurology",
         "1101416044",
         "- CONNECT THE PATIENT VENTILATOR- SEND ABG - DO CHEST X RAY - GIVE 200 MG HYDROCORTISONE - GIVE 2 G MAGISUME SULPHATE IV INFUSION OVER 30 MINUTS ",
         "Physician Instructions",
         "128.0",
         null,
         "1- Intracerebral haemorrhage",
         "1- I61",
         "72",
         "Male",
         "DCL",
         null
        ],
        [
         "1",
         "11_550732",
         "Neurology",
         "1101416044",
         "- Lasix 20 mg bid ( hold if BP IS LESS THAN 140/80)- PULMECORT 0.5 MG NEBULIZATION Q12- Atorvastatin 40 mg NGT /24 HRS- Daktarin oral gel sufficient amount TID.- VIMPAT 100 MG NGT/12 HRS- Epitam 1500 mg Syrup NGT /12 HRS- BACLOFEN 10MG NGT Q12HRImodium 2mg capsule NGT BID- Clexane 40mg SC q24hr (after asking physician) - Amlodipine 5mg NGT /24 HRS - ACC TAB 600 mg NGT Q24HFUCIDIN cream topical /12 HRS- SULBOAMOL 3 ML NEBULIZATION Q6H ( HOLD IF HR IS HIGHR THAN 100 )- LIPOBASE CREAM SUFFICINT AMOUNT TOPICAL BID- Avohex Mouth wash Q8H .- Pantoprazole 40 mg IV Q12H- Optifresh eye drops 2drop EYE Q8H.FontActiv Energy 70mL/hr over 20hr+ Beneprotein3 scoops/12 HRS - Water flush 100ml Q6hrs- ONDANSETRONE 8MG IV Q12H PRN- Lactulose Syrup 20ml NGT Q12H PRN- paracetamol 1gm iv tid PRN- Betadine Antiseptic solution topical /24 HRSBILATERAL VENOPRESS FOR 24 H.LIMB PHYSIOTHERPAY / 12 HRSCHEST PHYSIOTHERAPY Q / 4 HRS",
         "Medication Summary",
         "128.0",
         null,
         "1- Intracerebral haemorrhage",
         "1- I61",
         "72",
         "Male",
         "DCL",
         null
        ],
        [
         "2",
         "11_550732",
         "Neurology",
         "1101416044",
         "- Lasix 20 mg bid ( hold if BP IS LESS THAN 140/80)- PULMECORT 0.5 MG NEBULIZATION Q12- Atorvastatin 40 mg NGT /24 HRS- Daktarin oral gel suficient amount TID.- VIMPAT 100 MG NGT/12 HRS- Epitam 1500 mg Syrup NGT /12 HRS- BACLOFEN 10MG NGT Q12HR- Clexan 40mg SC q24hr (after asking physician) - Amlodipine 5mg NGT /24 HRS - ACC TAB 600 mg NGT Q24HFUCIDIN cream topical /12 HRS- SULBOAMOL 3 ML NEBULIZATION Q6H ( HOLD IF HR IS HIGHR THAN 100 )- LIPOBASE CREAM SUFFICINT AMOUNT TOPICAL BID- Avohex Mouth wash Q8H .- Pantoprazole 40 mg IV Q12H- Optifresh eye drops 2drop EYE Q8H.FontActiv Energy 70mL/hr over 20hr+ Beneprotein3 scoops/12 HRS - Water flush 100ml Q6hrs- ONDANSETRONE 8MG IV Q12H PRN- Lactulose Syrup 20ml NGT Q12H PRN- paracetamol 1gm iv tid PRN- Betadine Antiseptic solution topical /24 HRSBILATERAL VENOPRESS FOR 24 H.LIMB PHYSIOTHERPAY / 12 HRSCHEST PHYSIOTHERAPY Q / 4 HRS",
         "Medication Summary",
         "128.0",
         null,
         "1- Intracerebral haemorrhage",
         "1- I61",
         "72",
         "Male",
         "DCL",
         null
        ],
        [
         "3",
         "11_550732",
         "Neurology",
         "1101416044",
         "- PULMECORT 0.5 MG NEBULIZATION Q12- Atorvastatin 40 mg NGT /24 HRS- Daktarin oral gel suficient amount TID.- VIMPAT 100 MG NGT/12 HRS - Epitam 1500 mg Syrup NGT /12 HRS- BACLOFEN 10MG NGT Q12HR- Clexan 40mg SC q24hr (after asking physician) - Amlodipine 5mg NGT /24 HRS - ACC TAB 600 mg NGT Q24HFUCIDIN cream topical /12 HRS- SULBOAMOL 3 ML NEBULIZATION Q6H ( HOLD IF HR IS HIGHR THAN 100 )- LIPOBASE CREAM SUFFICINT AMOUNT TOPICAL BID- Avohex Mouth wash Q8H .- Pantoprazole 40 mg IV Q12H- OPTIfresh eye drops 2drop EYE Q8H.FontActiv Energy 70mL/hr over 20hr+ Beneprotein3 scoops/12 HRS - Water flush 100mlQ4hrs- ONDANSETRONE 8MG IV Q12H PRN- Lactulose Syrup 20ml NGT Q12H PRN- paracetamol 1gm iv tid PRN- Betadine Antiseptic solution topical /24 HRSBILATERAL VENOPRESS FOR 24 H.LIMB PHYSIOTHERPAY / 12 HRSCHEST PHYSIOTHERAPY Q / 4 HRS",
         "Physician Instructions",
         "128.0",
         null,
         "1- Intracerebral haemorrhage",
         "1- I61",
         "72",
         "Male",
         "DCL",
         null
        ],
        [
         "4",
         "11_550732",
         "Neurology",
         "1101416044",
         "- PULMECORT 0.5 MG NEBULIZATION Q12- Atorvastatin 40 mg NGT /24 HRS- Daktarin oral gel suficient amount TID.- VIMPAT 100 MG NGT/12 HRS- Epitam 1500 mg Syrup NGT /12 HRS- BACLOFEN 10MG NGT Q12HR- Clexan 40mg SC q24hr (after asking physician) - Amlodipine 5mg NGT /24 HRS - ACC TAB 600 mg NGT Q24HFUCIDIN cream topical /12 HRS- SULBOAMOL 3 ML NEBULIZATION Q6H ( HOLD IF HR IS HIGHR THAN 100 )- LIPOBASE CREAM SUFFICINT AMOUNT TOPICAL BID- Avohex Mouth wash Q8H .- Pantoprazole 40 mg IV Q12H- OPTIfresh eye drops 2drop EYE Q8H.FontActiv Energy 70mL/hr over 20hr+ Beneprotein3 scoops/12 HRS - Water flush 100mlQ4hrs- ONDANSETRONE 8MG IV Q12H PRN- Lactulose Syrup 20ml NGT Q12H PRN- paracetamol 1gm iv tid PRN- Betadine Antiseptic solution topical /24 HRSBILATERAL VENOPRESS FOR 24 H.LIMB PHYSIOTHERPAY / 12 HRSCHEST PHYSIOTHERAPY Q / 4 HRS",
         "Medication Summary",
         "128.0",
         null,
         "1- Intracerebral haemorrhage",
         "1- I61",
         "72",
         "Male",
         "DCL",
         null
        ],
        [
         "5",
         "11_550732",
         "Neurology",
         "1101416044",
         "1. Antibiotics / AntimicrobialsGentamycin: 280 mg IV OD &times; 5 days (SD 27/9) &rarr; FU creatinine q48h2. Cardiovascular (Antiplatelet / Anticoagulant / Antihypertensive / Diuretics / Lipid Lowering)Clexane (Enoxaparin): 40 mg SC OD (9 AM, confirm before giving)Lasix (Furosemide): 20 mg IV ODAmlodipine: 5 mg via PEG OD (3 PM, hold if BP &lt;130/80)Atorvastatin: 40 mg via PEG OD (9 PM)3. Neurology (Antiepileptic / Muscle Relaxant)Vimpat (Lacosamide): 100 mg via PEG q12h (9 AM, 9 PM)Epitam (Levetiracetam): 1500 mg syrup via PEG q12h (3 AM, 3 PM)Baclofen: 10 mg via PEG q12h (9 AM, 9 PM)4. Gastrointestinal / Hepatic SupportPantoprazole: 40 mg IV OD (before meals)ACC (Acetylcysteine): 600 mg via PEG ODLactulose Syrup: 20 mL via PEG q12h PRN constipation5. Analgesics / Antipyretics / AntiemeticsParacetamol: 1 g IV TID (for pain/fever)Ondansetron: 8 mg IV q12h PRN nausea/vomiting6. Respiratory (Nebulizations)Pulmicort: 0.5 mg nebulization q12hAtrovent: 0.5 mg nebulization q6h7. Topical / Local ApplicationsBetadine Solution: Apply sufficient amount BIDFucidin Cream: Apply topical q12hLipobase Cream: Apply topical BIDDaktarin Oral Gel: Apply sufficient amount TIDAvohex Mouthwash: q8hOptifresh Eye Drops: 2 drops both eyes q8h8. Nutrition &amp; HydrationFeeding Formula: Fontactive Diabest @ 70 mL/hr (continuous)Beneprotein: 2 scoops ODWater Flush: 100 mL q4h via PEG9. Supportive Care / OrdersChest physiotherapy: q6hLimb physiotherapy: q12hBilateral venopress",
         "Medication Summary",
         "128.0",
         null,
         "1- Intracerebral haemorrhage",
         "1- I61",
         "72",
         "Male",
         "DCL",
         null
        ],
        [
         "6",
         "11_550732",
         "Neurology",
         "1101416044",
         "1. Antibiotics / AntimicrobialsGentamycin: 280 mg IV OD &times; 5 days (SD 27/9) &rarr; FU creatinine q48h2. Cardiovascular (Antiplatelet / Anticoagulant / Antihypertensive / Diuretics / Lipid Lowering)Clexane (Enoxaparin): 40 mg SC OD (9 AM, confirm before giving)Lasix (Furosemide): 20 mg IV ODAmlodipine: 5 mg via PEG OD (3 PM, hold if BP &lt;130/80)Atorvastatin: 40 mg via PEG OD (9 PM)3. Neurology (Antiepileptic / Muscle Relaxant)Vimpat (Lacosamide): 100 mg via PEG q12h (9 AM, 9 PM)Epitam (Levetiracetam): 1500 mg syrup via PEG q12h (3 AM, 3 PM)Baclofen: 10 mg via PEG q12h (9 AM, 9 PM)4. Gastrointestinal / Hepatic SupportPantoprazole: 40 mg IV OD (before meals)ACC (Acetylcysteine): 600 mg via PEG ODLactulose Syrup: 20 mL via PEG q12h PRN constipation5. Analgesics / Antipyretics / AntiemeticsParacetamol: 1 g IV TID (for pain/fever)Ondansetron: 8 mg IV q12h PRN nausea/vomiting6. Respiratory (Nebulizations)Pulmicort: 0.5 mg nebulization q12hAtrovent: 0.5 mg nebulization q6h7. Topical / Local ApplicationsBetadine Solution: Apply sufficient amount BIDFucidin Cream: Apply topical q12hLipobase Cream: Apply topical BIDDaktarin Oral Gel: Apply sufficient amount TIDAvohex Mouthwash: q8hOptifresh Eye Drops: 2 drops both eyes q8h8. Nutrition &amp; HydrationFeeding Formula: Fontactive Diabest @ 70 mL/hr (continuous)Beneprotein: 3 scoops ODWater Flush: 100 mL q4h via PEG9. Supportive Care / OrdersChest physiotherapy: q6hLimb physiotherapy: q12hBilateral venopress",
         "Medication Summary",
         "128.0",
         null,
         "1- Intracerebral haemorrhage",
         "1- I61",
         "72",
         "Male",
         "DCL",
         null
        ]
       ],
       "shape": {
        "columns": 13,
        "rows": 7
       }
      },
      "text/html": [
       "<div>\n",
       "<style scoped>\n",
       "    .dataframe tbody tr th:only-of-type {\n",
       "        vertical-align: middle;\n",
       "    }\n",
       "\n",
       "    .dataframe tbody tr th {\n",
       "        vertical-align: top;\n",
       "    }\n",
       "\n",
       "    .dataframe thead th {\n",
       "        text-align: right;\n",
       "    }\n",
       "</style>\n",
       "<table border=\"1\" class=\"dataframe\">\n",
       "  <thead>\n",
       "    <tr style=\"text-align: right;\">\n",
       "      <th></th>\n",
       "      <th>Episode_key</th>\n",
       "      <th>specialty</th>\n",
       "      <th>patient_id</th>\n",
       "      <th>Note</th>\n",
       "      <th>NotesType</th>\n",
       "      <th>Vital_Sign1</th>\n",
       "      <th>Vital_SignType</th>\n",
       "      <th>DiagnoseName</th>\n",
       "      <th>ICDDiagnoseCode</th>\n",
       "      <th>Age</th>\n",
       "      <th>Gender</th>\n",
       "      <th>ChiefComplaintNotes</th>\n",
       "      <th>SymptomNotes</th>\n",
       "    </tr>\n",
       "  </thead>\n",
       "  <tbody>\n",
       "    <tr>\n",
       "      <th>0</th>\n",
       "      <td>11_550732</td>\n",
       "      <td>Neurology</td>\n",
       "      <td>1101416044</td>\n",
       "      <td>- CONNECT THE PATIENT VENTILATOR- SEND ABG - D...</td>\n",
       "      <td>Physician Instructions</td>\n",
       "      <td>128.0</td>\n",
       "      <td>NaN</td>\n",
       "      <td>1- Intracerebral haemorrhage</td>\n",
       "      <td>1- I61</td>\n",
       "      <td>72</td>\n",
       "      <td>Male</td>\n",
       "      <td>DCL</td>\n",
       "      <td>NaN</td>\n",
       "    </tr>\n",
       "    <tr>\n",
       "      <th>1</th>\n",
       "      <td>11_550732</td>\n",
       "      <td>Neurology</td>\n",
       "      <td>1101416044</td>\n",
       "      <td>- Lasix 20 mg bid ( hold if BP IS LESS THAN 14...</td>\n",
       "      <td>Medication Summary</td>\n",
       "      <td>128.0</td>\n",
       "      <td>NaN</td>\n",
       "      <td>1- Intracerebral haemorrhage</td>\n",
       "      <td>1- I61</td>\n",
       "      <td>72</td>\n",
       "      <td>Male</td>\n",
       "      <td>DCL</td>\n",
       "      <td>NaN</td>\n",
       "    </tr>\n",
       "    <tr>\n",
       "      <th>2</th>\n",
       "      <td>11_550732</td>\n",
       "      <td>Neurology</td>\n",
       "      <td>1101416044</td>\n",
       "      <td>- Lasix 20 mg bid ( hold if BP IS LESS THAN 14...</td>\n",
       "      <td>Medication Summary</td>\n",
       "      <td>128.0</td>\n",
       "      <td>NaN</td>\n",
       "      <td>1- Intracerebral haemorrhage</td>\n",
       "      <td>1- I61</td>\n",
       "      <td>72</td>\n",
       "      <td>Male</td>\n",
       "      <td>DCL</td>\n",
       "      <td>NaN</td>\n",
       "    </tr>\n",
       "    <tr>\n",
       "      <th>3</th>\n",
       "      <td>11_550732</td>\n",
       "      <td>Neurology</td>\n",
       "      <td>1101416044</td>\n",
       "      <td>- PULMECORT 0.5 MG NEBULIZATION Q12- Atorvasta...</td>\n",
       "      <td>Physician Instructions</td>\n",
       "      <td>128.0</td>\n",
       "      <td>NaN</td>\n",
       "      <td>1- Intracerebral haemorrhage</td>\n",
       "      <td>1- I61</td>\n",
       "      <td>72</td>\n",
       "      <td>Male</td>\n",
       "      <td>DCL</td>\n",
       "      <td>NaN</td>\n",
       "    </tr>\n",
       "    <tr>\n",
       "      <th>4</th>\n",
       "      <td>11_550732</td>\n",
       "      <td>Neurology</td>\n",
       "      <td>1101416044</td>\n",
       "      <td>- PULMECORT 0.5 MG NEBULIZATION Q12- Atorvasta...</td>\n",
       "      <td>Medication Summary</td>\n",
       "      <td>128.0</td>\n",
       "      <td>NaN</td>\n",
       "      <td>1- Intracerebral haemorrhage</td>\n",
       "      <td>1- I61</td>\n",
       "      <td>72</td>\n",
       "      <td>Male</td>\n",
       "      <td>DCL</td>\n",
       "      <td>NaN</td>\n",
       "    </tr>\n",
       "    <tr>\n",
       "      <th>5</th>\n",
       "      <td>11_550732</td>\n",
       "      <td>Neurology</td>\n",
       "      <td>1101416044</td>\n",
       "      <td>1. Antibiotics / AntimicrobialsGentamycin: 280...</td>\n",
       "      <td>Medication Summary</td>\n",
       "      <td>128.0</td>\n",
       "      <td>NaN</td>\n",
       "      <td>1- Intracerebral haemorrhage</td>\n",
       "      <td>1- I61</td>\n",
       "      <td>72</td>\n",
       "      <td>Male</td>\n",
       "      <td>DCL</td>\n",
       "      <td>NaN</td>\n",
       "    </tr>\n",
       "    <tr>\n",
       "      <th>6</th>\n",
       "      <td>11_550732</td>\n",
       "      <td>Neurology</td>\n",
       "      <td>1101416044</td>\n",
       "      <td>1. Antibiotics / AntimicrobialsGentamycin: 280...</td>\n",
       "      <td>Medication Summary</td>\n",
       "      <td>128.0</td>\n",
       "      <td>NaN</td>\n",
       "      <td>1- Intracerebral haemorrhage</td>\n",
       "      <td>1- I61</td>\n",
       "      <td>72</td>\n",
       "      <td>Male</td>\n",
       "      <td>DCL</td>\n",
       "      <td>NaN</td>\n",
       "    </tr>\n",
       "  </tbody>\n",
       "</table>\n",
       "</div>"
      ],
      "text/plain": [
       "  Episode_key  specialty  patient_id  \\\n",
       "0   11_550732  Neurology  1101416044   \n",
       "1   11_550732  Neurology  1101416044   \n",
       "2   11_550732  Neurology  1101416044   \n",
       "3   11_550732  Neurology  1101416044   \n",
       "4   11_550732  Neurology  1101416044   \n",
       "5   11_550732  Neurology  1101416044   \n",
       "6   11_550732  Neurology  1101416044   \n",
       "\n",
       "                                                Note               NotesType  \\\n",
       "0  - CONNECT THE PATIENT VENTILATOR- SEND ABG - D...  Physician Instructions   \n",
       "1  - Lasix 20 mg bid ( hold if BP IS LESS THAN 14...      Medication Summary   \n",
       "2  - Lasix 20 mg bid ( hold if BP IS LESS THAN 14...      Medication Summary   \n",
       "3  - PULMECORT 0.5 MG NEBULIZATION Q12- Atorvasta...  Physician Instructions   \n",
       "4  - PULMECORT 0.5 MG NEBULIZATION Q12- Atorvasta...      Medication Summary   \n",
       "5  1. Antibiotics / AntimicrobialsGentamycin: 280...      Medication Summary   \n",
       "6  1. Antibiotics / AntimicrobialsGentamycin: 280...      Medication Summary   \n",
       "\n",
       "   Vital_Sign1 Vital_SignType                  DiagnoseName ICDDiagnoseCode  \\\n",
       "0        128.0            NaN  1- Intracerebral haemorrhage          1- I61   \n",
       "1        128.0            NaN  1- Intracerebral haemorrhage          1- I61   \n",
       "2        128.0            NaN  1- Intracerebral haemorrhage          1- I61   \n",
       "3        128.0            NaN  1- Intracerebral haemorrhage          1- I61   \n",
       "4        128.0            NaN  1- Intracerebral haemorrhage          1- I61   \n",
       "5        128.0            NaN  1- Intracerebral haemorrhage          1- I61   \n",
       "6        128.0            NaN  1- Intracerebral haemorrhage          1- I61   \n",
       "\n",
       "   Age Gender ChiefComplaintNotes SymptomNotes  \n",
       "0   72   Male                 DCL          NaN  \n",
       "1   72   Male                 DCL          NaN  \n",
       "2   72   Male                 DCL          NaN  \n",
       "3   72   Male                 DCL          NaN  \n",
       "4   72   Male                 DCL          NaN  \n",
       "5   72   Male                 DCL          NaN  \n",
       "6   72   Male                 DCL          NaN  "
      ]
     },
     "execution_count": 8,
     "metadata": {},
     "output_type": "execute_result"
    }
   ],
   "source": [
    "df = pd.read_csv(\"data/clinical_notes_sample.csv\")\n",
    "df.head(7)"
   ]
  },
  {
   "cell_type": "code",
   "execution_count": 3,
   "id": "5269c4b8",
   "metadata": {},
   "outputs": [
    {
     "data": {
      "application/vnd.microsoft.datawrangler.viewer.v0+json": {
       "columns": [
        {
         "name": "specialty",
         "rawType": "object",
         "type": "string"
        },
        {
         "name": "count",
         "rawType": "int64",
         "type": "integer"
        }
       ],
       "ref": "59f5d9bf-fa8f-4c78-9421-539bb2035001",
       "rows": [
        [
         "Neurology",
         "1706"
        ],
        [
         "ICU",
         "1178"
        ],
        [
         "Internal Medicine",
         "178"
        ],
        [
         "General Surgery",
         "66"
        ],
        [
         "PICU",
         "45"
        ],
        [
         "OBE & GYN",
         "41"
        ],
        [
         "Orthopedics",
         "26"
        ],
        [
         "Cardiothoracic",
         "24"
        ],
        [
         "Urology",
         "24"
        ],
        [
         "Pediatrics",
         "12"
        ],
        [
         "Dermatology",
         "12"
        ],
        [
         "Dental Services",
         "10"
        ],
        [
         "E.N.T.",
         "9"
        ],
        [
         "Ophthalmology",
         "5"
        ],
        [
         "Nutrition",
         "4"
        ],
        [
         "Neuro Surgery",
         "4"
        ],
        [
         "Cardiology",
         "4"
        ],
        [
         "Family Medicine",
         "3"
        ],
        [
         "Chest",
         "2"
        ],
        [
         "Emergency Room Services",
         "2"
        ],
        [
         "Pediatric Surgery",
         "1"
        ],
        [
         "Andrology",
         "1"
        ],
        [
         "Pediatric Neurology",
         "1"
        ]
       ],
       "shape": {
        "columns": 1,
        "rows": 23
       }
      },
      "text/plain": [
       "specialty\n",
       "Neurology                  1706\n",
       "ICU                        1178\n",
       "Internal Medicine           178\n",
       "General Surgery              66\n",
       "PICU                         45\n",
       "OBE & GYN                    41\n",
       "Orthopedics                  26\n",
       "Cardiothoracic               24\n",
       "Urology                      24\n",
       "Pediatrics                   12\n",
       "Dermatology                  12\n",
       "Dental Services              10\n",
       "E.N.T.                        9\n",
       "Ophthalmology                 5\n",
       "Nutrition                     4\n",
       "Neuro Surgery                 4\n",
       "Cardiology                    4\n",
       "Family Medicine               3\n",
       "Chest                         2\n",
       "Emergency Room Services       2\n",
       "Pediatric Surgery             1\n",
       "Andrology                     1\n",
       "Pediatric Neurology           1\n",
       "Name: count, dtype: int64"
      ]
     },
     "execution_count": 3,
     "metadata": {},
     "output_type": "execute_result"
    }
   ],
   "source": [
    "df['specialty'].value_counts() "
   ]
  },
  {
   "cell_type": "code",
   "execution_count": 4,
   "id": "ffe14f6b",
   "metadata": {},
   "outputs": [
    {
     "data": {
      "application/vnd.microsoft.datawrangler.viewer.v0+json": {
       "columns": [
        {
         "name": "NotesType",
         "rawType": "object",
         "type": "string"
        },
        {
         "name": "count",
         "rawType": "int64",
         "type": "integer"
        }
       ],
       "ref": "951dd27f-474f-4167-8ba6-b722372ff73e",
       "rows": [
        [
         "Progress Note",
         "1792"
        ],
        [
         "Medication Summary",
         "1054"
        ],
        [
         "Physician Instructions",
         "341"
        ],
        [
         "Consultation Note",
         "96"
        ],
        [
         "Nursing Note",
         "10"
        ],
        [
         "Respiratory Therapy Note",
         "3"
        ],
        [
         "Physician Round",
         "3"
        ],
        [
         "Operative Report ",
         "3"
        ],
        [
         "-",
         "1"
        ]
       ],
       "shape": {
        "columns": 1,
        "rows": 9
       }
      },
      "text/plain": [
       "NotesType\n",
       "Progress Note               1792\n",
       "Medication Summary          1054\n",
       "Physician Instructions       341\n",
       "Consultation Note             96\n",
       "Nursing Note                  10\n",
       "Respiratory Therapy Note       3\n",
       "Physician Round                3\n",
       "Operative Report               3\n",
       "-                              1\n",
       "Name: count, dtype: int64"
      ]
     },
     "execution_count": 4,
     "metadata": {},
     "output_type": "execute_result"
    }
   ],
   "source": [
    "df['NotesType'].value_counts() "
   ]
  },
  {
   "cell_type": "code",
   "execution_count": 16,
   "id": "c5974d06",
   "metadata": {},
   "outputs": [
    {
     "data": {
      "application/vnd.microsoft.datawrangler.viewer.v0+json": {
       "columns": [
        {
         "name": "index",
         "rawType": "int64",
         "type": "integer"
        },
        {
         "name": "Note",
         "rawType": "bool",
         "type": "boolean"
        }
       ],
       "ref": "eba98a04-12be-4061-ad05-74639ac33d9e",
       "rows": [
        [
         "2149",
         "False"
        ],
        [
         "1127",
         "False"
        ],
        [
         "1225",
         "False"
        ],
        [
         "478",
         "False"
        ],
        [
         "2504",
         "True"
        ],
        [
         "298",
         "False"
        ],
        [
         "1594",
         "False"
        ],
        [
         "2467",
         "True"
        ],
        [
         "2713",
         "False"
        ],
        [
         "174",
         "False"
        ]
       ],
       "shape": {
        "columns": 1,
        "rows": 10
       }
      },
      "text/plain": [
       "2149    False\n",
       "1127    False\n",
       "1225    False\n",
       "478     False\n",
       "2504     True\n",
       "298     False\n",
       "1594    False\n",
       "2467     True\n",
       "2713    False\n",
       "174     False\n",
       "Name: Note, dtype: bool"
      ]
     },
     "execution_count": 16,
     "metadata": {},
     "output_type": "execute_result"
    }
   ],
   "source": [
    "# seeing the length of notes for a 10 samples and make condition if the len of note > 1000\n",
    "df['Note'].sample(10).apply(lambda x: len(x) > 1000)"
   ]
  },
  {
   "cell_type": "code",
   "execution_count": 19,
   "id": "ff914ae0",
   "metadata": {},
   "outputs": [],
   "source": [
    "x = df.loc[df['Note'].str.len() > 1000, 'Note'].sample(10)\n",
    "x.to_excel('data/long_notes.xlsx', index=False)"
   ]
  },
  {
   "cell_type": "code",
   "execution_count": null,
   "id": "789dc346",
   "metadata": {},
   "outputs": [],
   "source": []
  }
 ],
 "metadata": {
  "kernelspec": {
   "display_name": "env",
   "language": "python",
   "name": "python3"
  },
  "language_info": {
   "codemirror_mode": {
    "name": "ipython",
    "version": 3
   },
   "file_extension": ".py",
   "mimetype": "text/x-python",
   "name": "python",
   "nbconvert_exporter": "python",
   "pygments_lexer": "ipython3",
   "version": "3.11.0"
  }
 },
 "nbformat": 4,
 "nbformat_minor": 5
}
