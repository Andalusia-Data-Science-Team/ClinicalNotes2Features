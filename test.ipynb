{
 "cells": [
  {
   "cell_type": "code",
   "execution_count": 1,
   "id": "a1b2c272",
   "metadata": {},
   "outputs": [],
   "source": [
    "import numpy as np \n",
    "import pandas as pd"
   ]
  },
  {
   "cell_type": "code",
   "execution_count": null,
   "id": "149f3367",
   "metadata": {},
   "outputs": [
    {
     "data": {
      "application/vnd.microsoft.datawrangler.viewer.v0+json": {
       "columns": [
        {
         "name": "index",
         "rawType": "int64",
         "type": "integer"
        },
        {
         "name": "Component Name",
         "rawType": "object",
         "type": "string"
        },
        {
         "name": "Definition",
         "rawType": "object",
         "type": "string"
        }
       ],
       "ref": "eb848aa2-6e4e-4753-90d2-48eb56f11cc6",
       "rows": [
        [
         "0",
         "Chief Complaint (CC)",
         "The main reason, in the patient's own words, for seeking medical attention."
        ],
        [
         "1",
         "History of Present Illness (HPI)",
         "A detailed, narrative description of the chief complaint, including its Onset, Location, Duration, Character, Aggravating/Alleviating factors, Radiation, and Severity (OLD CARTS)."
        ],
        [
         "2",
         "Past Medical History (PMH)",
         "A record of the patient's prior illnesses, conditions, surgeries, and hospitalizations (e.g., Diabetes, Hypertension, Appendectomy)."
        ],
        [
         "3",
         "Current Medications",
         "A list of all medications the patient is currently taking, including Drug Name, Dosage, Frequency, and Route."
        ],
        [
         "4",
         "Allergies",
         "Any known allergies (drug, food, environmental) and the associated Reaction (e.g., Penicillin → Anaphylaxis)."
        ],
        [
         "5",
         "Physical Exam (PE)",
         "Objective findings from the physician's examination, often broken down by System (e.g., Cardiovascular: Regular Rate and Rhythm; Lungs: Clear to Auscultation)."
        ],
        [
         "6",
         "Review of Systems (ROS)",
         "A structured inventory of symptoms obtained through patient questioning, covering major organ systems (e.g., General, Cardiovascular, Respiratory, GI)."
        ]
       ],
       "shape": {
        "columns": 2,
        "rows": 7
       }
      },
      "text/html": [
       "<div>\n",
       "<style scoped>\n",
       "    .dataframe tbody tr th:only-of-type {\n",
       "        vertical-align: middle;\n",
       "    }\n",
       "\n",
       "    .dataframe tbody tr th {\n",
       "        vertical-align: top;\n",
       "    }\n",
       "\n",
       "    .dataframe thead th {\n",
       "        text-align: right;\n",
       "    }\n",
       "</style>\n",
       "<table border=\"1\" class=\"dataframe\">\n",
       "  <thead>\n",
       "    <tr style=\"text-align: right;\">\n",
       "      <th></th>\n",
       "      <th>Component Name</th>\n",
       "      <th>Definition</th>\n",
       "    </tr>\n",
       "  </thead>\n",
       "  <tbody>\n",
       "    <tr>\n",
       "      <th>0</th>\n",
       "      <td>Chief Complaint (CC)</td>\n",
       "      <td>The main reason, in the patient's own words, f...</td>\n",
       "    </tr>\n",
       "    <tr>\n",
       "      <th>1</th>\n",
       "      <td>History of Present Illness (HPI)</td>\n",
       "      <td>A detailed, narrative description of the chief...</td>\n",
       "    </tr>\n",
       "    <tr>\n",
       "      <th>2</th>\n",
       "      <td>Past Medical History (PMH)</td>\n",
       "      <td>A record of the patient's prior illnesses, con...</td>\n",
       "    </tr>\n",
       "    <tr>\n",
       "      <th>3</th>\n",
       "      <td>Current Medications</td>\n",
       "      <td>A list of all medications the patient is curre...</td>\n",
       "    </tr>\n",
       "    <tr>\n",
       "      <th>4</th>\n",
       "      <td>Allergies</td>\n",
       "      <td>Any known allergies (drug, food, environmental...</td>\n",
       "    </tr>\n",
       "    <tr>\n",
       "      <th>5</th>\n",
       "      <td>Physical Exam (PE)</td>\n",
       "      <td>Objective findings from the physician's examin...</td>\n",
       "    </tr>\n",
       "    <tr>\n",
       "      <th>6</th>\n",
       "      <td>Review of Systems (ROS)</td>\n",
       "      <td>A structured inventory of symptoms obtained th...</td>\n",
       "    </tr>\n",
       "  </tbody>\n",
       "</table>\n",
       "</div>"
      ],
      "text/plain": [
       "                     Component Name  \\\n",
       "0              Chief Complaint (CC)   \n",
       "1  History of Present Illness (HPI)   \n",
       "2        Past Medical History (PMH)   \n",
       "3               Current Medications   \n",
       "4                         Allergies   \n",
       "5                Physical Exam (PE)   \n",
       "6           Review of Systems (ROS)   \n",
       "\n",
       "                                          Definition  \n",
       "0  The main reason, in the patient's own words, f...  \n",
       "1  A detailed, narrative description of the chief...  \n",
       "2  A record of the patient's prior illnesses, con...  \n",
       "3  A list of all medications the patient is curre...  \n",
       "4  Any known allergies (drug, food, environmental...  \n",
       "5  Objective findings from the physician's examin...  \n",
       "6  A structured inventory of symptoms obtained th...  "
      ]
     },
     "execution_count": 4,
     "metadata": {},
     "output_type": "execute_result"
    }
   ],
   "source": [
    "df = pd.read_excel(\"data/sheet components.xlsx\")\n"
   ]
  },
  {
   "cell_type": "code",
   "execution_count": 7,
   "id": "9a282264",
   "metadata": {},
   "outputs": [
    {
     "data": {
      "text/plain": [
       "array(['Chief Complaint (CC)', 'History of Present Illness (HPI)',\n",
       "       'Past Medical History (PMH)', 'Current Medications', 'Allergies',\n",
       "       'Physical Exam (PE)', 'Review of Systems (ROS)',\n",
       "       'Labs/Imaging/Results', 'Assessment/Impression', 'Plan'],\n",
       "      dtype=object)"
      ]
     },
     "execution_count": 7,
     "metadata": {},
     "output_type": "execute_result"
    }
   ],
   "source": [
    "df['Component Name'].values "
   ]
  },
  {
   "cell_type": "code",
   "execution_count": 9,
   "id": "826ec794",
   "metadata": {},
   "outputs": [
    {
     "data": {
      "text/plain": [
       "array([\"The main reason, in the patient's own words, for seeking medical attention.\",\n",
       "       'A detailed, narrative description of the chief complaint, including its Onset, Location, Duration, Character, Aggravating/Alleviating factors, Radiation, and Severity (OLD CARTS).',\n",
       "       \"A record of the patient's prior illnesses, conditions, surgeries, and hospitalizations (e.g., Diabetes, Hypertension, Appendectomy).\",\n",
       "       'A list of all medications the patient is currently taking, including Drug Name, Dosage, Frequency, and Route.',\n",
       "       'Any known allergies (drug, food, environmental) and the associated Reaction (e.g., Penicillin → Anaphylaxis).',\n",
       "       \"Objective findings from the physician's examination, often broken down by System (e.g., Cardiovascular: Regular Rate and Rhythm; Lungs: Clear to Auscultation).\",\n",
       "       'A structured inventory of symptoms obtained through patient questioning, covering major organ systems (e.g., General, Cardiovascular, Respiratory, GI).',\n",
       "       'Structured or free-text reference to any relevant diagnostic tests, including the Type of test, key Values, and the Interpretation.',\n",
       "       \"The physician's Diagnosis or differential diagnoses (the working list of possible conditions).\",\n",
       "       'The proposed course of action, including Treatment (e.g., New medication, Physical therapy), Follow-up, and Patient Education/Instructions.'],\n",
       "      dtype=object)"
      ]
     },
     "execution_count": 9,
     "metadata": {},
     "output_type": "execute_result"
    }
   ],
   "source": [
    "df['Definition'].values "
   ]
  },
  {
   "cell_type": "code",
   "execution_count": null,
   "id": "e131441a",
   "metadata": {},
   "outputs": [],
   "source": [
    "['Chief Complaint (CC)', 'History of Present Illness (HPI)',\n",
    "       'Past Medical History (PMH)', 'Current Medications', 'Allergies',\n",
    "       'Physical Exam (PE)', 'Review of Systems (ROS)',\n",
    "       'Labs/Imaging/Results', 'Assessment/Impression', 'Plan']\n",
    "\n",
    "\n",
    "[\"The main reason, in the patient's own words, for seeking medical attention.\",\n",
    "       'A detailed, narrative description of the chief complaint, including its Onset, Location, Duration, Character, Aggravating/Alleviating factors, Radiation, and Severity (OLD CARTS).',\n",
    "       \"A record of the patient's prior illnesses, conditions, surgeries, and hospitalizations (e.g., Diabetes, Hypertension, Appendectomy).\",\n",
    "       'A list of all medications the patient is currently taking, including Drug Name, Dosage, Frequency, and Route.',\n",
    "       'Any known allergies (drug, food, environmental) and the associated Reaction (e.g., Penicillin → Anaphylaxis).',\n",
    "       \"Objective findings from the physician's examination, often broken down by System (e.g., Cardiovascular: Regular Rate and Rhythm; Lungs: Clear to Auscultation).\",\n",
    "       'A structured inventory of symptoms obtained through patient questioning, covering major organ systems (e.g., General, Cardiovascular, Respiratory, GI).',\n",
    "       'Structured or free-text reference to any relevant diagnostic tests, including the Type of test, key Values, and the Interpretation.',\n",
    "       \"The physician's Diagnosis or differential diagnoses (the working list of possible conditions).\",\n",
    "       'The proposed course of action, including Treatment (e.g., New medication, Physical therapy), Follow-up, and Patient Education/Instructions.']       \n",
    "\n"
   ]
  },
  {
   "cell_type": "code",
   "execution_count": null,
   "id": "fdd440a5",
   "metadata": {},
   "outputs": [],
   "source": [
    "clinical_note_structure = {\n",
    "    \"Chief Complaint (CC)\": \"The main reason, in the patient's own words, for seeking medical attention.\",\n",
    "    \"History of Present Illness (HPI)\": \"A detailed, narrative description of the chief complaint, including its Onset, Location, Duration, Character, Aggravating/Alleviating factors, Radiation, and Severity (OLD CARTS).\",\n",
    "    \"Past Medical History (PMH)\": \"A record of the patient's prior illnesses, conditions, surgeries, and hospitalizations (e.g., Diabetes, Hypertension, Appendectomy).\",\n",
    "    \"Current Medications\": \"A list of all medications the patient is currently taking, including Drug Name, Dosage, Frequency, and Route.\",\n",
    "    \"Allergies\": \"Any known allergies (drug, food, environmental) and the associated Reaction (e.g., Penicillin → Anaphylaxis).\",\n",
    "    \"Physical Exam (PE)\": \"Objective findings from the physician's examination, often broken down by System (e.g., Cardiovascular: Regular Rate and Rhythm; Lungs: Clear to Auscultation).\",\n",
    "    \"Review of Systems (ROS)\": \"A structured inventory of symptoms obtained through patient questioning, covering major organ systems (e.g., General, Cardiovascular, Respiratory, GI).\",\n",
    "    \"Labs/Imaging/Results\": \"Structured or free-text reference to any relevant diagnostic tests, including the Type of test, key Values, and the Interpretation.\",\n",
    "    \"Assessment/Impression\": \"The physician's Diagnosis or differential diagnoses (the working list of possible conditions).\",\n",
    "    \"Plan\": \"The proposed course of action, including Treatment (e.g., New medication, Physical therapy), Follow-up, and Patient Education/Instructions.\"\n",
    "}\n"
   ]
  },
  {
   "cell_type": "code",
   "execution_count": 10,
   "id": "aaf286af",
   "metadata": {},
   "outputs": [
    {
     "data": {
      "text/plain": [
       "{'Allergies',\n",
       " 'Assessment/Impression',\n",
       " 'Chief Complaint (CC)',\n",
       " 'Current Medications',\n",
       " 'History of Present Illness (HPI)',\n",
       " 'Labs/Imaging/Results',\n",
       " 'Past Medical History (PMH)',\n",
       " 'Physical Exam (PE)',\n",
       " 'Plan',\n",
       " 'Review of Systems (ROS)'}"
      ]
     },
     "execution_count": 10,
     "metadata": {},
     "output_type": "execute_result"
    }
   ],
   "source": [
    "{'Chief Complaint (CC)', 'History of Present Illness (HPI)',\n",
    "       'Past Medical History (PMH)', 'Current Medications', 'Allergies',\n",
    "       'Physical Exam (PE)', 'Review of Systems (ROS)',\n",
    "       'Labs/Imaging/Results', 'Assessment/Impression', 'Plan'}"
   ]
  },
  {
   "cell_type": "code",
   "execution_count": 11,
   "id": "fb08ee3d",
   "metadata": {},
   "outputs": [],
   "source": [
    "# Convert the csv file to excel file\n",
    "\n",
    "import csv\n",
    "import pandas as pd\n",
    "\n",
    "csv_file_path = '/Users/aliay/OneDrive/Desktop/Andalusia Projects/ClinicalNotes2Features/data/clinical_notes_sample.csv'\n",
    "excel_file_path = '/Users/aliay/OneDrive/Desktop/Andalusia Projects/ClinicalNotes2Features/data/clinical_notes_sample.xlsx'\n",
    "\n",
    "df = pd.read_csv(csv_file_path)\n",
    "df.to_excel(excel_file_path, index=False)"
   ]
  },
  {
   "cell_type": "code",
   "execution_count": 13,
   "id": "8e09dbe6",
   "metadata": {},
   "outputs": [],
   "source": [
    "# take 20 sample from this excel sheet \n",
    "\n",
    "import pandas as pd\n",
    "\n",
    "df = pd.read_excel('/Users/aliay/OneDrive/Desktop/Andalusia Projects/ClinicalNotes2Features/data/clinical_notes_sample.xlsx')\n",
    "sample_df = df.sample(20)\n",
    "sample_df.to_excel('/Users/aliay/OneDrive/Desktop/Andalusia Projects/ClinicalNotes2Features/data/clinical_notes_sample_20.xlsx', index=False)"
   ]
  },
  {
   "cell_type": "code",
   "execution_count": null,
   "id": "4a24f635",
   "metadata": {},
   "outputs": [],
   "source": []
  }
 ],
 "metadata": {
  "kernelspec": {
   "display_name": "Python 3",
   "language": "python",
   "name": "python3"
  },
  "language_info": {
   "codemirror_mode": {
    "name": "ipython",
    "version": 3
   },
   "file_extension": ".py",
   "mimetype": "text/x-python",
   "name": "python",
   "nbconvert_exporter": "python",
   "pygments_lexer": "ipython3",
   "version": "3.11.0"
  }
 },
 "nbformat": 4,
 "nbformat_minor": 5
}
